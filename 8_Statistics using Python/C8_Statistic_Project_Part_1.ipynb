{
 "cells": [
  {
   "cell_type": "markdown",
   "id": "573343d4-cf37-47e1-8afb-277289b339e6",
   "metadata": {},
   "source": [
    "# DS_C8_S5"
   ]
  },
  {
   "cell_type": "markdown",
   "id": "c38df39f-21c7-4581-909e-59d6b78b12d2",
   "metadata": {},
   "source": [
    "# Refining Computer Sales Strategy through Statistical Analysis\n",
    "\n",
    "In Project-Part 1, computers data will be prepared for further analysis by performing data pre- processing and cleaning, if required. Three business objectives will be resolved by solving various business questions using Python. These include enhancing product strategy and sales performance through specification-based analysis, assessing price disparities between premium and non-premium computers, understanding computer price trends.\n"
   ]
  },
  {
   "cell_type": "code",
   "execution_count": 1,
   "id": "54e1b917-c9e5-4f6b-88cc-d3096294ea3c",
   "metadata": {},
   "outputs": [
    {
     "name": "stdout",
     "output_type": "stream",
     "text": [
      "<class 'pandas.core.frame.DataFrame'>\n",
      "RangeIndex: 6259 entries, 0 to 6258\n",
      "Data columns (total 12 columns):\n",
      " #   Column    Non-Null Count  Dtype \n",
      "---  ------    --------------  ----- \n",
      " 0   index     6259 non-null   int64 \n",
      " 1   price     6259 non-null   int64 \n",
      " 2   speed     6259 non-null   int64 \n",
      " 3   hd        6259 non-null   int64 \n",
      " 4   ram       6259 non-null   int64 \n",
      " 5   screen    6259 non-null   int64 \n",
      " 6   cd        6259 non-null   object\n",
      " 7   multi     6259 non-null   object\n",
      " 8   premium   6259 non-null   object\n",
      " 9   ads_2022  6259 non-null   int64 \n",
      " 10  ads_2023  6259 non-null   int64 \n",
      " 11  trend     6259 non-null   int64 \n",
      "dtypes: int64(9), object(3)\n",
      "memory usage: 586.9+ KB\n"
     ]
    }
   ],
   "source": [
    "import pandas as pd\n",
    "# Step 1: Load the data (if not already in DataFrame)\n",
    "data = pd.read_csv('DS1_C8_S5_Computers_Data_Project.csv')\n",
    "\n",
    "# Step 2: Impute missing values (if any)\n",
    "# For categorical columns, we impute with the mode (most frequent value)\n",
    "for column in data.select_dtypes(include=['object']).columns:\n",
    "    data[column].fillna(data[column].mode()[0])\n",
    "\n",
    "# Step 3: Drop duplicates\n",
    "data.drop_duplicates(inplace=True)\n",
    "\n",
    "data.info()"
   ]
  },
  {
   "cell_type": "markdown",
   "id": "11726372-3213-4828-94d0-430b0bc56c01",
   "metadata": {},
   "source": [
    "# Task 1\n",
    "\n",
    "#### a) Analyze Purchase Likelihood Based on Specifications\n",
    "- The company wants to understand the likelihood of customers purchasing specific computer configurations based on a combination of desired features (RAM size, processor speed, size of the computer screen).\n",
    "- What is the probability of a customer purchasing a computer with at least 8GB of RAM, computer screen size of 14 inch, and a processor speed exceeding 33 MHz?\n"
   ]
  },
  {
   "cell_type": "code",
   "execution_count": 2,
   "id": "79ed8a8d-b11f-4556-8657-fb08694071b6",
   "metadata": {},
   "outputs": [
    {
     "name": "stdout",
     "output_type": "stream",
     "text": [
      "N: 6259\n"
     ]
    }
   ],
   "source": [
    "# Strp 1: N=Total number of rows in the dataset\n",
    "total_entries = len(data)\n",
    "print('N:',total_entries)"
   ]
  },
  {
   "cell_type": "code",
   "execution_count": 11,
   "id": "26f8e6e9-9155-44b9-aa7b-2b6ccbdd5376",
   "metadata": {},
   "outputs": [],
   "source": [
    "# Step 2: Filter rows based on the specified conditions\n",
    "filtered_data = data[(data['ram'] >= 8) & (data['screen'] == 14) & (data['speed'] > 33)]\n",
    "\n",
    "# Calculate the number of matching entries\n",
    "matching_entries = len(filtered_data)"
   ]
  },
  {
   "cell_type": "code",
   "execution_count": 15,
   "id": "58cbfcc6-efa6-4643-bc53-6535613ad901",
   "metadata": {},
   "outputs": [
    {
     "data": {
      "text/plain": [
       "(6259, 1003, 0.16024924109282632)"
      ]
     },
     "execution_count": 15,
     "metadata": {},
     "output_type": "execute_result"
    }
   ],
   "source": [
    "# Step 3: We calculate the likelihood P of purchasing based on the matching entries and total entries: \n",
    "# Calculate the likelihood \n",
    "# P=M/N\n",
    "likelihood = matching_entries / total_entries\n",
    "\n",
    "total_entries, matching_entries, likelihood"
   ]
  },
  {
   "cell_type": "markdown",
   "id": "3bc9c71b-123d-47d0-a1d8-52817c6fc940",
   "metadata": {},
   "source": [
    "#### b) Probability of Selling Premium Computers\n",
    "- What is the probability of selling a premium computer?\n",
    "- Given that a computer is premium, what is the probability that it has a CD player?"
   ]
  },
  {
   "cell_type": "code",
   "execution_count": 18,
   "id": "a3d2c6bb-3b38-425c-bbf4-922311c3a607",
   "metadata": {},
   "outputs": [
    {
     "data": {
      "text/plain": [
       "(0.9022208020450552, 0.5000885425889853)"
      ]
     },
     "execution_count": 18,
     "metadata": {},
     "output_type": "execute_result"
    }
   ],
   "source": [
    "# Step 1: Count the number of premium computers\n",
    "premium_computers = data[data['premium'] == 'yes']\n",
    "\n",
    "# Step 2: Calculate the probability of selling a premium computer\n",
    "probability_premium = len(premium_computers) / total_entries\n",
    "\n",
    "# Step 3: Count the number of premium computers with a CD player\n",
    "premium_with_cd = premium_computers[premium_computers['cd'] == 'yes']\n",
    "\n",
    "# Step 4: Calculate the conditional probability of having a CD player given the computer is premium\n",
    "probability_cd_given_premium = len(premium_with_cd) / len(premium_computers)\n",
    "\n",
    "probability_premium, probability_cd_given_premium"
   ]
  },
  {
   "cell_type": "raw",
   "id": "4a27ffef-535d-48c8-8406-ac60c13d97d2",
   "metadata": {},
   "source": [
    "Probability of selling a premium computer: P(premium) = 0.9022208020450552\n",
    "Probability of having a CD player given the computer is premium: P(cd∣premium) = 0.5000885425889853"
   ]
  },
  {
   "cell_type": "markdown",
   "id": "3a0589bb-11cf-4044-879a-e05a10ff6419",
   "metadata": {},
   "source": [
    "#### c) Predicting the Probability of Certain Specifications\n",
    "- What is the probability of a computer having a screen size greater than 15 inches and being premium?\n",
    "- Given that a computer is not premium, what is the probability that it has a screen size less than or equal to 14 inches?"
   ]
  },
  {
   "cell_type": "code",
   "execution_count": 21,
   "id": "d9b8ce4f-e971-48b5-a64f-72bc91fb02ac",
   "metadata": {},
   "outputs": [
    {
     "data": {
      "text/plain": [
       "0.08467806358843266"
      ]
     },
     "execution_count": 21,
     "metadata": {},
     "output_type": "execute_result"
    }
   ],
   "source": [
    "# Step 1: Filter premium computers with screen size > 15 inches\n",
    "premium_with_large_screen = data[(data['premium'] == 'yes') & (data['screen'] > 15)]\n",
    "\n",
    "# Step 2: Calculate the probability\n",
    "probability_large_screen_and_premium = len(premium_with_large_screen) / total_entries\n",
    "probability_large_screen_and_premium"
   ]
  },
  {
   "cell_type": "code",
   "execution_count": 24,
   "id": "a28a53c0-1320-4b09-b061-ca98097041bf",
   "metadata": {},
   "outputs": [
    {
     "data": {
      "text/plain": [
       "0.6911764705882353"
      ]
     },
     "execution_count": 24,
     "metadata": {},
     "output_type": "execute_result"
    }
   ],
   "source": [
    "# Step 1: Filter non-premium computers with screen size <= 14 inches\n",
    "non_premium_with_small_screen = data[(data['premium'] == 'no') & (data['screen'] <= 14)]\n",
    "\n",
    "# Step 2: Calculate the number of non-premium computers\n",
    "non_premium_computers = data[data['premium'] == 'no']\n",
    "\n",
    "# Step 3: Calculate the conditional probability\n",
    "probability_small_screen_given_not_premium = len(non_premium_with_small_screen) / len(non_premium_computers)\n",
    "probability_small_screen_given_not_premium"
   ]
  },
  {
   "cell_type": "markdown",
   "id": "c4eb12bc-750e-47fc-919a-7c832c4c6816",
   "metadata": {},
   "source": [
    "#### d) Likelihood of computers having both a CD player and a multimedia kit\n",
    "- What is the joint probability of computers having both a CD player and a multimedia kit?\n",
    "- Given that a computer has a CD player, what is the probability that it also has a multimedia kit?"
   ]
  },
  {
   "cell_type": "code",
   "execution_count": 27,
   "id": "d6b08e20-16bb-44ba-9ece-efcb1a2af51e",
   "metadata": {},
   "outputs": [
    {
     "data": {
      "text/plain": [
       "0.1394791500239655"
      ]
     },
     "execution_count": 27,
     "metadata": {},
     "output_type": "execute_result"
    }
   ],
   "source": [
    "# Step 1: Filter computers with both CD and multimedia kit\n",
    "cd_and_multimedia = data[(data['cd'] == 'yes') & (data['multi'] == 'yes')]\n",
    "\n",
    "# Step 2: Calculate the joint probability\n",
    "joint_probability = len(cd_and_multimedia) / total_entries\n",
    "joint_probability"
   ]
  },
  {
   "cell_type": "code",
   "execution_count": 31,
   "id": "ec0668ae-6e8d-45e3-9918-5ba1d37f89ca",
   "metadata": {},
   "outputs": [
    {
     "data": {
      "text/plain": [
       "0.3002063273727648"
      ]
     },
     "execution_count": 31,
     "metadata": {},
     "output_type": "execute_result"
    }
   ],
   "source": [
    "# Step 1: Filter computers with a CD player\n",
    "cd_computers = data[data['cd'] == 'yes']\n",
    "\n",
    "# Step 2: Calculate the conditional probability\n",
    "conditional_probability = len(cd_and_multimedia) / len(cd_computers)\n",
    "conditional_probability"
   ]
  },
  {
   "cell_type": "raw",
   "id": "bb1256b7-8fdd-4782-a8f3-bbf1e15a8800",
   "metadata": {},
   "source": [
    "Joint Probability: P(CD and Multimedia) = 0.1394791500239655\n",
    "Conditional Probability: P(Multimedia∣CD) = 0.3002063273727648"
   ]
  },
  {
   "cell_type": "markdown",
   "id": "15d37243-6109-413b-aed5-0e1ef9229d56",
   "metadata": {},
   "source": [
    "# Task 2\n",
    "#### a) What is the average price of computers in the population/whole data?"
   ]
  },
  {
   "cell_type": "code",
   "execution_count": 32,
   "id": "e97c080f-bc31-4194-9d9d-fe8266534369",
   "metadata": {},
   "outputs": [
    {
     "data": {
      "text/plain": [
       "2219.576609682058"
      ]
     },
     "execution_count": 32,
     "metadata": {},
     "output_type": "execute_result"
    }
   ],
   "source": [
    "# Calculate the average price of computers in the whole dataset\n",
    "average_price = data['price'].mean()\n",
    "average_price"
   ]
  },
  {
   "cell_type": "markdown",
   "id": "d8256df6-ac74-4f04-8b3b-3625da3b6ac7",
   "metadata": {},
   "source": [
    "#### b) How does the average price of samples vary when data is sampled using different sampling techniques?"
   ]
  },
  {
   "cell_type": "code",
   "execution_count": 41,
   "id": "4cb65bf8-4aac-42b5-8052-ea558052215c",
   "metadata": {},
   "outputs": [
    {
     "data": {
      "text/plain": [
       "(2237.94089456869,\n",
       " premium\n",
       " no     2361.934641\n",
       " yes    2204.148397\n",
       " Name: price, dtype: float64)"
      ]
     },
     "execution_count": 41,
     "metadata": {},
     "output_type": "execute_result"
    }
   ],
   "source": [
    "# Stratified Sampling (10% stratified by 'premium')\n",
    "stratified_sample = data.groupby('premium')\n",
    "average_price_stratified = stratified_sample['price'].mean()\n",
    "\n",
    "average_price_simple_random, average_price_stratified"
   ]
  },
  {
   "cell_type": "markdown",
   "id": "a57c3901-bb47-476e-be03-207062a2e59b",
   "metadata": {},
   "source": [
    "#### c) What is the average price of premium and non-premium computers in the whole data? How does the average price differ between premium and non-premium computers of sampled data using simple random sampling without replacement?"
   ]
  },
  {
   "cell_type": "code",
   "execution_count": 42,
   "id": "db548523-03e5-46d7-832c-20961fc41dfc",
   "metadata": {},
   "outputs": [
    {
     "data": {
      "text/plain": [
       "(2204.148397379139, 2361.9346405228757, 2234.4072790294626, 2279.5510204081634)"
      ]
     },
     "execution_count": 42,
     "metadata": {},
     "output_type": "execute_result"
    }
   ],
   "source": [
    "# Whole data: Calculate average prices for premium and non-premium computers\n",
    "average_price_premium = data[data['premium'] == 'yes']['price'].mean()\n",
    "average_price_non_premium = data[data['premium'] == 'no']['price'].mean()\n",
    "\n",
    "# Sampled data: Simple Random Sampling\n",
    "average_price_premium_sample = simple_random_sample[simple_random_sample['premium'] == 'yes']['price'].mean()\n",
    "average_price_non_premium_sample = simple_random_sample[simple_random_sample['premium'] == 'no']['price'].mean()\n",
    "\n",
    "average_price_premium, average_price_non_premium, average_price_premium_sample, average_price_non_premium_sample"
   ]
  },
  {
   "cell_type": "markdown",
   "id": "476ae7d7-5ca8-48e3-974e-472f17c1a164",
   "metadata": {},
   "source": [
    "#### d) Write your interpretation by comparing prices of premium and non-premium computers individually and prices of both categories together."
   ]
  },
  {
   "cell_type": "markdown",
   "id": "f5fc690b-eb9b-4b3e-88ba-24383f81b0d7",
   "metadata": {},
   "source": [
    "Premium Computers:\n",
    "- Whole data: 2204.14\n",
    "- Sampled data: 2234.41\n",
    "- The average price of premium computers in the sampled data is slightly higher than in the whole data.\n",
    "\n",
    "Non-Premium Computers:\n",
    "- Whole data: 2361.93\n",
    "- Sampled data: 2279.55\n",
    "- The average price of non-premium computers in the sampled data is lower than in the whole data.\n"
   ]
  },
  {
   "cell_type": "markdown",
   "id": "6723bab8-23ef-460c-8397-8c87248ae062",
   "metadata": {},
   "source": [
    "# Task 3\n",
    "#### a) How does the distribution of sample means change for computer prices with different sample sizes?"
   ]
  },
  {
   "cell_type": "code",
   "execution_count": 45,
   "id": "a40095f4-ece2-4190-bc0e-fba481149318",
   "metadata": {},
   "outputs": [
    {
     "data": {
      "image/png": "[encoded data removed]",
      "text/plain": [
       "<Figure size 1200x400 with 1 Axes>"
      ]
     },
     "metadata": {},
     "output_type": "display_data"
    }
   ],
   "source": [
    "import matplotlib.pyplot as plt\n",
    "import numpy as np\n",
    "\n",
    "sample_sizes = [10, 30, 50, 100] # Define sample sizes and number of repetitions\n",
    "num_samples = 1000  # Number of samples to draw for each size\n",
    "sample_means = {}\n",
    "for size in sample_sizes:\n",
    "    means = [data['price'].sample(n=size, replace=True).mean() for _ in range(num_samples)]\n",
    "    sample_means[size] = means\n",
    "\n",
    "plt.figure(figsize=(12, 4))\n",
    "for size, means in sample_means.items():\n",
    "    plt.hist(means, bins=30, alpha=0.5, label=f\"Sample size = {size}\")\n",
    "\n",
    "plt.title(\"Distribution of Sample Means for Different Sample Sizes\")\n",
    "plt.xlabel(\"Sample Mean\")\n",
    "plt.ylabel(\"Frequency\")\n",
    "plt.legend()\n",
    "plt.show()"
   ]
  },
  {
   "cell_type": "markdown",
   "id": "23a189fe-a6de-4690-a5e9-9c5cae98b1c4",
   "metadata": {},
   "source": [
    "#### b) Does the distribution of sample means approximate a normal distribution as sample size increases?"
   ]
  },
  {
   "cell_type": "code",
   "execution_count": 49,
   "id": "61c5e7bb-a808-4f69-be95-5d1822bc3f83",
   "metadata": {},
   "outputs": [
    {
     "data": {
      "image/png": "[encoded data removed]",
      "text/plain": [
       "<Figure size 640x480 with 1 Axes>"
      ]
     },
     "metadata": {},
     "output_type": "display_data"
    },
    {
     "name": "stdout",
     "output_type": "stream",
     "text": [
      "Sample means approximate a normal distribution (p-value = 0.050).\n"
     ]
    }
   ],
   "source": [
    "import seaborn as sns\n",
    "from scipy.stats import normaltest\n",
    "\n",
    "largest_sample_size = max(sample_sizes)\n",
    "sns.histplot(sample_means[largest_sample_size], kde=True, bins=30, color='blue')\n",
    "plt.title(f\"Distribution of Sample Means (Sample size = {largest_sample_size})\")\n",
    "plt.xlabel(\"Sample Mean\")\n",
    "plt.ylabel(\"Frequency\")\n",
    "plt.show()\n",
    "\n",
    "stat, p_value = normaltest(sample_means[largest_sample_size])\n",
    "if p_value > 0.05:\n",
    "    print(f\"Sample means approximate a normal distribution (p-value = {p_value:.3f}).\")\n",
    "else:\n",
    "    print(f\"Sample means do not approximate a normal distribution (p-value = {p_value:.3f}).\")"
   ]
  },
  {
   "cell_type": "markdown",
   "id": "93dd80f7-8829-43fe-a152-c250bcfbf207",
   "metadata": {},
   "source": [
    "#### c) Check if properties of Central limit theorem for the samples is satisfied."
   ]
  },
  {
   "cell_type": "code",
   "execution_count": 52,
   "id": "7f551282-5627-4a05-9d9f-e4055aaefbd2",
   "metadata": {},
   "outputs": [
    {
     "name": "stdout",
     "output_type": "stream",
     "text": [
      "Sample size = 10\n",
      "Mean of sample means = 2206.43, Population mean = 2219.58\n",
      "Variance of sample means = 34699.26, Theoretical variance = 33733.32\n",
      "\n",
      "Sample size = 30\n",
      "Mean of sample means = 2217.16, Population mean = 2219.58\n",
      "Variance of sample means = 11915.02, Theoretical variance = 11244.44\n",
      "\n",
      "Sample size = 50\n",
      "Mean of sample means = 2219.99, Population mean = 2219.58\n",
      "Variance of sample means = 6907.28, Theoretical variance = 6746.66\n",
      "\n",
      "Sample size = 100\n",
      "Mean of sample means = 2219.73, Population mean = 2219.58\n",
      "Variance of sample means = 3510.23, Theoretical variance = 3373.33\n",
      "\n"
     ]
    }
   ],
   "source": [
    "# Population mean and variance\n",
    "population_mean = data['price'].mean()\n",
    "population_variance = data['price'].var()\n",
    "\n",
    "# Verify properties of CLT\n",
    "for size in sample_sizes:\n",
    "    sample_mean = np.mean(sample_means[size])\n",
    "    sample_variance = np.var(sample_means[size])\n",
    "    theoretical_variance = population_variance / size\n",
    "    print(f\"Sample size = {size}\")\n",
    "    print(f\"Mean of sample means = {sample_mean:.2f}, Population mean = {population_mean:.2f}\")\n",
    "    print(f\"Variance of sample means = {sample_variance:.2f}, Theoretical variance = {theoretical_variance:.2f}\")\n",
    "    print()"
   ]
  }
 ],
 "metadata": {
  "kernelspec": {
   "display_name": "Python 3 (ipykernel)",
   "language": "python",
   "name": "python3"
  },
  "language_info": {
   "codemirror_mode": {
    "name": "ipython",
    "version": 3
   },
   "file_extension": ".py",
   "mimetype": "text/x-python",
   "name": "python",
   "nbconvert_exporter": "python",
   "pygments_lexer": "ipython3",
   "version": "3.12.4"
  }
 },
 "nbformat": 4,
 "nbformat_minor": 5
}
