{
 "cells": [
  {
   "cell_type": "markdown",
   "id": "8e997080-fe16-41a0-a060-c4658ddfe448",
   "metadata": {},
   "source": [
    "# DS_C8_S6"
   ]
  },
  {
   "cell_type": "markdown",
   "id": "d29a1dd4-16a9-46dc-b632-45692f5c550a",
   "metadata": {},
   "source": [
    "# Refining Computer Sales Strategy through Statistical Analysis Part-2\n",
    "\n",
    "In Project - Part 1, few business questions were resolved which include enhancing product strategy and sales performance through specification-based analysis, assessing price disparities between premium and non-premium computers, understanding computer price trends. Now, let's address the next set of business questions such as analyzing advertising budget for premium computers, evaluating price differences between computers for certain specifications, analyzing premium computer pricing strategy. For this sprint, continue using the same cleaned data obtained in Project - Part 1."
   ]
  },
  {
   "cell_type": "code",
   "execution_count": 1,
   "id": "0e07ad7d-f3c3-462a-bd46-4507828e8be6",
   "metadata": {},
   "outputs": [
    {
     "name": "stdout",
     "output_type": "stream",
     "text": [
      "<class 'pandas.core.frame.DataFrame'>\n",
      "RangeIndex: 6259 entries, 0 to 6258\n",
      "Data columns (total 12 columns):\n",
      " #   Column    Non-Null Count  Dtype \n",
      "---  ------    --------------  ----- \n",
      " 0   index     6259 non-null   int64 \n",
      " 1   price     6259 non-null   int64 \n",
      " 2   speed     6259 non-null   int64 \n",
      " 3   hd        6259 non-null   int64 \n",
      " 4   ram       6259 non-null   int64 \n",
      " 5   screen    6259 non-null   int64 \n",
      " 6   cd        6259 non-null   object\n",
      " 7   multi     6259 non-null   object\n",
      " 8   premium   6259 non-null   object\n",
      " 9   ads_2022  6259 non-null   int64 \n",
      " 10  ads_2023  6259 non-null   int64 \n",
      " 11  trend     6259 non-null   int64 \n",
      "dtypes: int64(9), object(3)\n",
      "memory usage: 586.9+ KB\n"
     ]
    }
   ],
   "source": [
    "import pandas as pd\n",
    "# Step 1: Load the data (if not already in DataFrame)\n",
    "data = pd.read_csv('DS1_C8_S5_Computers_Data_Project.csv')\n",
    "\n",
    "# Step 2: Impute missing values (if any)\n",
    "# For categorical columns, we impute with the mode (most frequent value)\n",
    "for column in data.select_dtypes(include=['object']).columns:\n",
    "    data[column].fillna(data[column].mode()[0])\n",
    "\n",
    "# Step 3: Drop duplicates\n",
    "data.drop_duplicates(inplace=True)\n",
    "data.info()"
   ]
  },
  {
   "cell_type": "markdown",
   "id": "321e546a-cfbb-450c-9f79-3f2f2de0f551",
   "metadata": {},
   "source": [
    "# Task 1\n",
    "The advertising budget spent on promoting premium computers in 2023 is increased as compared to 2022. The mean advertising budget was 221.3 billion dollars in 2022 and it was 222.2 billion dollars in 2023. A promoter in this company believes that the average advertising budget is higher than that of 2022. Priya, a data analyst, randomly selected 40 premium computers to check this notion.\n",
    "Use a 5% level of significance to test Maya's hypothesis. Consider normally distribution in the population and standard deviation is 74.83."
   ]
  },
  {
   "cell_type": "code",
   "execution_count": 1,
   "id": "893ef2b9-6cbd-4d86-9c9e-288ecc87d777",
   "metadata": {},
   "outputs": [],
   "source": [
    "from scipy.stats import norm\n",
    "import math\n",
    "sample_mean = 222.2\n",
    "population_mean = 221.3\n",
    "pop_std_dev = 74.83\n",
    "sample_size = 40\n",
    "alpha = 0.05"
   ]
  },
  {
   "cell_type": "code",
   "execution_count": 29,
   "id": "bfc63984-14a8-4053-858a-a0df626bf286",
   "metadata": {},
   "outputs": [
    {
     "name": "stdout",
     "output_type": "stream",
     "text": [
      "Z-statistic: 0.08\n",
      "Critical Z-value: 1.64\n"
     ]
    }
   ],
   "source": [
    "# Z-test calculation\n",
    "z = (sample_mean - population_mean) / (pop_std_dev / math.sqrt(sample_size))\n",
    "z_critical = norm.ppf(1 - alpha)     # Critical value for 5% significance level\n",
    "\n",
    "print(f\"Z-statistic: {z:.2f}\")\n",
    "print(f\"Critical Z-value: {z_critical:.2f}\")"
   ]
  },
  {
   "cell_type": "code",
   "execution_count": 30,
   "id": "38773088-80d5-4b13-9cdf-413a1555d389",
   "metadata": {},
   "outputs": [
    {
     "name": "stdout",
     "output_type": "stream",
     "text": [
      "Fail to reject the null hypothesis: There is no significant evidence that the 2023 average advertising budget is higher.\n"
     ]
    }
   ],
   "source": [
    "if z >= z_critical:\n",
    "    print(\"Reject the null hypothesis: The average advertising budget in 2023 is significantly higher than 2022.\")\n",
    "else:\n",
    "    print(\"Fail to reject the null hypothesis: There is no significant evidence that the 2023 average advertising budget is higher.\")"
   ]
  },
  {
   "cell_type": "markdown",
   "id": "70f193fd-02a2-4a8b-9b45-55122a5e87b1",
   "metadata": {},
   "source": [
    "- Test Statistic (z): The calculated z-statistic will indicate how far the sample mean deviates from the null hypothesis mean in terms of standard errors.\n",
    "- P-Value: If the p-value is less than 0.05, the null hypothesis is rejected, indicating that the advertising budget in 2023 is significantly higher than in 2022.\n",
    "- We Fail to reject the null hypothesis: There is no significant evidence that the 2023 average advertising budget is higher."
   ]
  },
  {
   "cell_type": "markdown",
   "id": "f472648e-5e0b-436b-906f-f8f23018908a",
   "metadata": {},
   "source": [
    "# Task 2\n",
    "Is there a statistically significant difference in the average price of computers with CD players and computers without CD players? Use 5% of the significance level for the test."
   ]
  },
  {
   "cell_type": "code",
   "execution_count": 35,
   "id": "ccadcf14-8b36-4bcd-95de-79f29d65f870",
   "metadata": {},
   "outputs": [
    {
     "name": "stdout",
     "output_type": "stream",
     "text": [
      "T-statistic: 15.92\n",
      "P-value: 0.000000\n",
      "Reject the null hypothesis: There is a significant difference in the average prices of computers with and without CD players.\n"
     ]
    }
   ],
   "source": [
    "from scipy.stats import ttest_ind\n",
    "\n",
    "# Separate the data into two groups\n",
    "with_cd = data[data['cd'] == 'yes']['price']\n",
    "without_cd = data[data['cd'] == 'no']['price']\n",
    "\n",
    "# Perform an independent t-test\n",
    "p_value = norm.ppf(z)         # P-value (one-tailed)\n",
    "t_stat, p_value = ttest_ind(with_cd, without_cd)  # Welch's t-test (assumes unequal variances)\n",
    "\n",
    "alpha = 0.05\n",
    "print(f\"T-statistic: {t_stat:.2f}\")\n",
    "print(f\"P-value: {p_value:.6f}\")\n",
    "\n",
    "if p_value < alpha:\n",
    "    print(\"Reject the null hypothesis: There is a significant difference in the average prices of computers with and without CD players.\")\n",
    "else:\n",
    "    print(\"Fail to reject the null hypothesis: No significant difference in the average prices of computers with and without CD players.\")"
   ]
  },
  {
   "cell_type": "markdown",
   "id": "3564e17f-5e78-4812-9acb-aec4f544332d",
   "metadata": {},
   "source": [
    "# Task 3\n",
    "#### a) Identify Price Discrepancy for Premium Computers\n",
    "Determine if the mean price of premium computers differs significantly from $2200?\n",
    "To examine this, select 25 samples of premium computers randomly from the data. Assume the data is normally distributed in the population. Use a 5% significance level to test this hypothesis.\n"
   ]
  },
  {
   "cell_type": "code",
   "execution_count": 37,
   "id": "898f789b-8956-48d0-85a6-51c231abc1e3",
   "metadata": {},
   "outputs": [],
   "source": [
    "import numpy as np\n",
    "from scipy.stats import t\n",
    "\n",
    "# Step 1: Filter premium computers and select 25 random samples\n",
    "premium_computers = data[data['premium'] == 'yes']['price']\n",
    "sample_premium = premium_computers.sample(n=25, random_state=42)\n",
    "\n",
    "# Step 2: Calculate sample mean and standard deviation\n",
    "sample_mean = np.mean(sample_premium)\n",
    "sample_std = np.std(sample_premium, ddof=1)  # Sample standard deviation\n",
    "sample_size = len(sample_premium)"
   ]
  },
  {
   "cell_type": "code",
   "execution_count": 40,
   "id": "1224562c-1438-422c-ac06-63df6a4dd067",
   "metadata": {},
   "outputs": [],
   "source": [
    "# Step 3: Perform one-sample t-test\n",
    "population_mean = 2200\n",
    "t_stat = (sample_mean - population_mean) / (sample_std / np.sqrt(sample_size))\n",
    "\n",
    "# Step 4: Calculate the two-tailed p-value\n",
    "df = sample_size - 1  # Degrees of freedom\n",
    "p_value = 2 * t.sf(np.abs(t_stat), df)"
   ]
  },
  {
   "cell_type": "code",
   "execution_count": 42,
   "id": "72006b21-8423-4eda-af5e-e9b70a36919e",
   "metadata": {},
   "outputs": [
    {
     "name": "stdout",
     "output_type": "stream",
     "text": [
      "Sample Mean: 2295.12\n",
      "Sample Standard Deviation: 882.69\n",
      "T-statistic: 0.54\n",
      "P-value: 0.5950\n",
      "Fail to reject the null hypothesis: The mean price of premium computers does not differ significantly from $2200.\n"
     ]
    }
   ],
   "source": [
    "# Step 5: Print results\n",
    "alpha = 0.05\n",
    "print(f\"Sample Mean: {sample_mean:.2f}\")\n",
    "print(f\"Sample Standard Deviation: {sample_std:.2f}\")\n",
    "print(f\"T-statistic: {t_stat:.2f}\")\n",
    "print(f\"P-value: {p_value:.4f}\")\n",
    "\n",
    "if p_value < alpha:\n",
    "    print(\"Reject the null hypothesis: The mean price of premium computers differs significantly from $2200.\")\n",
    "else:\n",
    "    print(\"Fail to reject the null hypothesis: The mean price of premium computers does not differ significantly from $2200.\")"
   ]
  },
  {
   "cell_type": "markdown",
   "id": "5af5d0bd-5d6a-4490-9a7f-9dccbca0fc66",
   "metadata": {},
   "source": [
    "#### b) Analyze price disparity between premium and non-premium computers.\n",
    "Is there a significant difference in the mean prices of premium and non-premium computers?\n",
    "Assume that the prices are normally distributed and that the population variances are approximately equal. Use a 5% significance level to test this hypothesis.\n"
   ]
  },
  {
   "cell_type": "code",
   "execution_count": 43,
   "id": "8fbcee1a-c0da-4ffe-8092-29bd232918fa",
   "metadata": {},
   "outputs": [
    {
     "name": "stdout",
     "output_type": "stream",
     "text": [
      "Premium Mean: 2204.15, Non-Premium Mean: 2361.93\n",
      "T-statistic: -6.40\n",
      "P-value: 0.0000\n",
      "Reject the null hypothesis: There is a significant difference in the mean prices of premium and non-premium computers.\n"
     ]
    }
   ],
   "source": [
    "import numpy as np\n",
    "from scipy.stats import t\n",
    "\n",
    "# Step 1: Separate the data into two groups: Premium and Non-Premium\n",
    "premium_computers = data[data['premium'] == 'yes']['price']\n",
    "non_premium_computers = data[data['premium'] == 'no']['price']\n",
    "\n",
    "# Step 2: Calculate sample means and standard deviations for both groups\n",
    "mean_premium = np.mean(premium_computers)\n",
    "mean_non_premium = np.mean(non_premium_computers)\n",
    "std_premium = np.std(premium_computers, ddof=1)\n",
    "std_non_premium = np.std(non_premium_computers, ddof=1)\n",
    "n_premium = len(premium_computers)\n",
    "n_non_premium = len(non_premium_computers)\n",
    "\n",
    "# Step 3: Calculate the pooled standard deviation\n",
    "pooled_std = np.sqrt(((n_premium - 1) * std_premium**2 + (n_non_premium - 1) * std_non_premium**2) /\n",
    "                     (n_premium + n_non_premium - 2))\n",
    "\n",
    "# Step 4: Calculate the t-statistic\n",
    "t_stat = (mean_premium - mean_non_premium) / (pooled_std * np.sqrt(1 / n_premium + 1 / n_non_premium))\n",
    "\n",
    "# Step 5: Calculate degrees of freedom\n",
    "df = n_premium + n_non_premium - 2\n",
    "\n",
    "# Step 6: Calculate the p-value (two-tailed test)\n",
    "p_value = 2 * t.sf(np.abs(t_stat), df)\n",
    "\n",
    "# Step 7: Print results\n",
    "alpha = 0.05\n",
    "print(f\"Premium Mean: {mean_premium:.2f}, Non-Premium Mean: {mean_non_premium:.2f}\")\n",
    "print(f\"T-statistic: {t_stat:.2f}\")\n",
    "print(f\"P-value: {p_value:.4f}\")\n",
    "\n",
    "# Decision\n",
    "if p_value < alpha:\n",
    "    print(\"Reject the null hypothesis: There is a significant difference in the mean prices of premium and non-premium computers.\")\n",
    "else:\n",
    "    print(\"Fail to reject the null hypothesis: There is no significant difference in the mean prices of premium and non-premium computers.\")"
   ]
  }
 ],
 "metadata": {
  "kernelspec": {
   "display_name": "Python 3 (ipykernel)",
   "language": "python",
   "name": "python3"
  },
  "language_info": {
   "codemirror_mode": {
    "name": "ipython",
    "version": 3
   },
   "file_extension": ".py",
   "mimetype": "text/x-python",
   "name": "python",
   "nbconvert_exporter": "python",
   "pygments_lexer": "ipython3",
   "version": "3.12.4"
  }
 },
 "nbformat": 4,
 "nbformat_minor": 5
}
